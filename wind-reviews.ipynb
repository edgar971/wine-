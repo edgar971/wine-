{
 "cells": [
  {
   "cell_type": "code",
   "execution_count": 234,
   "metadata": {},
   "outputs": [],
   "source": [
    "import pandas as pd\n",
    "import numpy as np\n",
    "import string\n",
    "from nltk.probability import FreqDist\n",
    "from nltk.tokenize import RegexpTokenizer\n",
    "import matplotlib.pyplot as plt\n",
    "from sklearn.feature_extraction.text import CountVectorizer\n",
    "from sklearn.neighbors import NearestNeighbors\n",
    "%matplotlib inline"
   ]
  },
  {
   "cell_type": "code",
   "execution_count": 235,
   "metadata": {},
   "outputs": [],
   "source": [
    "def toWordList(text):\n",
    "    text_array = []\n",
    "    word_list= []\n",
    "    tokenizer = RegexpTokenizer(r'\\w+')\n",
    "    for idx in range(len(text)):\n",
    "        text_array.append(np.array(tokenizer.tokenize(text[idx].lower())))\n",
    "    for words in text_array:\n",
    "        for word in words:\n",
    "            word_list.append(word)\n",
    "    return np.array(word_list)"
   ]
  },
  {
   "cell_type": "code",
   "execution_count": 236,
   "metadata": {},
   "outputs": [],
   "source": [
    "def text_process(text):\n",
    "    nopunc = [char for char in text if char not in string.punctuation]\n",
    "    nopunc = ''.join(nopunc)\n",
    "    return [word for word in nopunc.split() if word.lower() not in vectorizer.get_stop_words()]"
   ]
  },
  {
   "cell_type": "code",
   "execution_count": 249,
   "metadata": {},
   "outputs": [],
   "source": [
    "def get_recommended_wines(search_term, model, vectorizer):\n",
    "    distances, indices = nbrs.kneighbors(vectorizer.transform([search_term]), 10)\n",
    "    distances = distances.flatten()\n",
    "    indices = indices.flatten()\n",
    "    descriptions = reviewsDf.iloc[indices]['description']\n",
    "    titles = reviewsDf.iloc[indices]['title']\n",
    "    return distances, np.array(descriptions), np.array(titles)"
   ]
  },
  {
   "cell_type": "markdown",
   "metadata": {},
   "source": [
    "# Data Prep"
   ]
  },
  {
   "cell_type": "code",
   "execution_count": 238,
   "metadata": {},
   "outputs": [],
   "source": [
    "reviewsDf = pd.read_csv('./data/winemag-data-130k-v2.csv') "
   ]
  },
  {
   "cell_type": "code",
   "execution_count": 239,
   "metadata": {},
   "outputs": [],
   "source": [
    "reviewsDf = reviewsDf[['description','title']]"
   ]
  },
  {
   "cell_type": "code",
   "execution_count": 240,
   "metadata": {},
   "outputs": [],
   "source": [
    "descriptions = reviewsDf.description.tolist()"
   ]
  },
  {
   "cell_type": "code",
   "execution_count": 241,
   "metadata": {},
   "outputs": [],
   "source": [
    "all_words = toWordList(descriptions)"
   ]
  },
  {
   "cell_type": "markdown",
   "metadata": {},
   "source": [
    "# Word Frequency"
   ]
  },
  {
   "cell_type": "code",
   "execution_count": 242,
   "metadata": {},
   "outputs": [],
   "source": [
    "wordFreq = FreqDist(all_words)"
   ]
  },
  {
   "cell_type": "code",
   "execution_count": 243,
   "metadata": {},
   "outputs": [
    {
     "data": {
      "image/png": "[encoded data removed]",
      "text/plain": [
       "<matplotlib.figure.Figure at 0x1a52931668>"
      ]
     },
     "metadata": {
      "needs_background": "light"
     },
     "output_type": "display_data"
    }
   ],
   "source": [
    "plt.figure(figsize=(10, 5))\n",
    "wordFreq.plot(50,cumulative=False) # Top 50 used words\n",
    "plt.show()"
   ]
  },
  {
   "cell_type": "code",
   "execution_count": 244,
   "metadata": {},
   "outputs": [],
   "source": [
    "stop_words = [word[0] for word in wordFreq.most_common(20)]"
   ]
  },
  {
   "cell_type": "markdown",
   "metadata": {},
   "source": [
    "# Create NB Model"
   ]
  },
  {
   "cell_type": "code",
   "execution_count": 245,
   "metadata": {},
   "outputs": [],
   "source": [
    "vectorizer = CountVectorizer(stop_words = stop_words, analyzer=text_process)\n",
    "tfidf_matrix = vectorizer.fit_transform(descriptions)"
   ]
  },
  {
   "cell_type": "code",
   "execution_count": 246,
   "metadata": {},
   "outputs": [],
   "source": [
    "nbrs = NearestNeighbors(n_neighbors=10, metric='cosine').fit(tfidf_matrix)"
   ]
  },
  {
   "cell_type": "code",
   "execution_count": 252,
   "metadata": {},
   "outputs": [],
   "source": [
    "closest = get_recommended_wines('white and sweet wine', nbrs, vectorizer)"
   ]
  },
  {
   "cell_type": "code",
   "execution_count": 253,
   "metadata": {},
   "outputs": [
    {
     "name": "stdout",
     "output_type": "stream",
     "text": [
      "Score: 0.42264973081037416\n",
      "Title: Naches Heights 2006 Pinot Gris (Columbia Valley (WA))\n",
      "Description: A flat tasting, slightly sweet, generic white wine.\n",
      "\n",
      "\n",
      "Score: 0.4478423696257673\n",
      "Title: Signano 2015  Vernaccia di San Gimignano\n",
      "Description: This simple white has subdued aromas of white spring flower and white stone fruit. The no-fuss, rather diluted palate offers hints of white peach, green apple and a whisper of white almond.\n",
      "\n",
      "\n",
      "Score: 0.4478423696257673\n",
      "Title: Signano 2015  Vernaccia di San Gimignano\n",
      "Description: This simple white has subdued aromas of white spring flower and white stone fruit. The no-fuss, rather diluted palate offers hints of white peach, green apple and a whisper of white almond.\n",
      "\n",
      "\n",
      "Score: 0.5\n",
      "Title: Lander-Jenkins 2010 Spirit Hawk Chardonnay (California)\n",
      "Description: Very sweet in white sugared orange and vanilla flavors, like a honey-nut candy bar. Will satisfy Chard lovers with a sweet tooth\n",
      "\n",
      "\n",
      "Score: 0.5000000000000001\n",
      "Title: Michael Pozzan 2012 Dante Reserve Pinot Grigio (Paso Robles)\n",
      "Description: Tastes sweet, with citrus, white flower and green pea notes.\n",
      "\n",
      "\n",
      "Score: 0.5133357366077125\n",
      "Title: Corte Moschina 2015 Evaos  (Soave)\n",
      "Description: Here's a creamy white that delivers aromas and flavors of white peach, pear and white almond. A mineral note and fresh acidity lift the finish.\n",
      "\n",
      "\n",
      "Score: 0.5133357366077125\n",
      "Title: Corte Moschina 2015 Evaos  (Soave)\n",
      "Description: Here's a creamy white that delivers aromas and flavors of white peach, pear and white almond. A mineral note and fresh acidity lift the finish.\n",
      "\n",
      "\n",
      "Score: 0.5188747756753119\n",
      "Title: Selva Capuzza 2016 San Vigilio  (Lugana)\n",
      "Description: Heady aromas of white spring flower, white stone fruit and crushed herb take center stage on this fragrant white. On the succulent palate, notes of white almond and thyme underscore white peach, lemon drop and yellow apple alongside fresh acidity. A savory mineral note suggesting saline graces the lingering finish.\n",
      "\n",
      "\n",
      "Score: 0.5256583509747432\n",
      "Title: Puklavec & Friends 2013 Moscato (Štajerska)\n",
      "Description: This wine has aromas of freshly mowed grass, peaches and white flowers. It is slightly sweet with flavors of canned peach, white peach juice and apricot nectar.\n",
      "\n",
      "\n",
      "Score: 0.5256583509747432\n",
      "Title: Puklavec & Friends 2013 Moscato (Štajerska)\n",
      "Description: This wine has aromas of freshly mowed grass, peaches and white flowers. It is slightly sweet with flavors of canned peach, white peach juice and apricot nectar.\n",
      "\n",
      "\n"
     ]
    }
   ],
   "source": [
    "for i in range(len(closest[0])):\n",
    "    print(f'Score: {closest[0][i]}')\n",
    "    print(f'Title: {closest[2][i]}')\n",
    "    print(f'Description: {closest[1][i]}')\n",
    "    print('\\n')"
   ]
  },
  {
   "cell_type": "code",
   "execution_count": null,
   "metadata": {},
   "outputs": [],
   "source": []
  }
 ],
 "metadata": {
  "kernelspec": {
   "display_name": "Python 3",
   "language": "python",
   "name": "python3"
  },
  "language_info": {
   "codemirror_mode": {
    "name": "ipython",
    "version": 3
   },
   "file_extension": ".py",
   "mimetype": "text/x-python",
   "name": "python",
   "nbconvert_exporter": "python",
   "pygments_lexer": "ipython3",
   "version": "3.6.8"
  }
 },
 "nbformat": 4,
 "nbformat_minor": 2
}
