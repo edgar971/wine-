{
 "cells": [
  {
   "cell_type": "markdown",
   "metadata": {},
   "source": [
    "# Wine Recommendations"
   ]
  },
  {
   "cell_type": "code",
   "execution_count": 2,
   "metadata": {},
   "outputs": [],
   "source": [
    "import pandas as pd\n",
    "import numpy as np\n",
    "import string\n",
    "from nltk.probability import FreqDist\n",
    "from nltk.tokenize import RegexpTokenizer\n",
    "import matplotlib.pyplot as plt\n",
    "from sklearn.feature_extraction.text import CountVectorizer\n",
    "from sklearn.neighbors import NearestNeighbors\n",
    "%matplotlib inline"
   ]
  },
  {
   "cell_type": "code",
   "execution_count": 3,
   "metadata": {},
   "outputs": [],
   "source": [
    "def toWordList(text):\n",
    "    text_array = []\n",
    "    word_list= []\n",
    "    tokenizer = RegexpTokenizer(r'\\w+')\n",
    "    for idx in range(len(text)):\n",
    "        text_array.append(np.array(tokenizer.tokenize(text[idx].lower())))\n",
    "    for words in text_array:\n",
    "        for word in words:\n",
    "            word_list.append(word)\n",
    "    return np.array(word_list)"
   ]
  },
  {
   "cell_type": "code",
   "execution_count": 4,
   "metadata": {},
   "outputs": [],
   "source": [
    "def text_process(text):\n",
    "    nopunc = [char for char in text if char not in string.punctuation]\n",
    "    nopunc = ''.join(nopunc)\n",
    "    return [word for word in nopunc.split() if word.lower() not in vectorizer.get_stop_words()]"
   ]
  },
  {
   "cell_type": "code",
   "execution_count": 26,
   "metadata": {},
   "outputs": [],
   "source": [
    "def get_recommended_wines(search_term, model, vectorizer):\n",
    "    distances, indices = nbrs.kneighbors(vectorizer.transform([search_term]), 5)\n",
    "    distances = distances.flatten()\n",
    "    indices = indices.flatten()\n",
    "    descriptions = reviewsDf.iloc[indices]['description']\n",
    "    titles = reviewsDf.iloc[indices]['title']\n",
    "    return distances, np.array(descriptions), np.array(titles)"
   ]
  },
  {
   "cell_type": "code",
   "execution_count": 22,
   "metadata": {},
   "outputs": [],
   "source": [
    "def showResults(closest):\n",
    "    for i in range(len(closest[0])):\n",
    "        print(f'Score: {closest[0][i]}')\n",
    "        print(f'Title: {closest[2][i]}')\n",
    "        print(f'Description: {closest[1][i]}')\n",
    "        print('\\n')"
   ]
  },
  {
   "cell_type": "markdown",
   "metadata": {},
   "source": [
    "# Data Prep"
   ]
  },
  {
   "cell_type": "code",
   "execution_count": 6,
   "metadata": {},
   "outputs": [],
   "source": [
    "reviewsDf = pd.read_csv('./data/winemag-data-130k-v2.csv') "
   ]
  },
  {
   "cell_type": "code",
   "execution_count": 7,
   "metadata": {},
   "outputs": [],
   "source": [
    "reviewsDf = reviewsDf[['description','title']]"
   ]
  },
  {
   "cell_type": "code",
   "execution_count": 8,
   "metadata": {},
   "outputs": [],
   "source": [
    "descriptions = reviewsDf.description.tolist()"
   ]
  },
  {
   "cell_type": "code",
   "execution_count": 9,
   "metadata": {},
   "outputs": [],
   "source": [
    "all_words = toWordList(descriptions)"
   ]
  },
  {
   "cell_type": "code",
   "execution_count": 10,
   "metadata": {},
   "outputs": [],
   "source": [
    "wordFreq = FreqDist(all_words)"
   ]
  },
  {
   "cell_type": "markdown",
   "metadata": {},
   "source": [
    "### We want to remove the 20 most common words since they are not useful. "
   ]
  },
  {
   "cell_type": "code",
   "execution_count": 11,
   "metadata": {},
   "outputs": [
    {
     "data": {
      "image/png": "[encoded data removed]",
      "text/plain": [
       "<matplotlib.figure.Figure at 0x1a18ac07b8>"
      ]
     },
     "metadata": {
      "needs_background": "light"
     },
     "output_type": "display_data"
    }
   ],
   "source": [
    "plt.figure(figsize=(10, 5))\n",
    "wordFreq.plot(20,cumulative=False) # Top 50 used words\n",
    "plt.show()"
   ]
  },
  {
   "cell_type": "code",
   "execution_count": 12,
   "metadata": {},
   "outputs": [],
   "source": [
    "stop_words = [word[0] for word in wordFreq.most_common(20)]"
   ]
  },
  {
   "cell_type": "markdown",
   "metadata": {},
   "source": [
    "# Create NB Model"
   ]
  },
  {
   "cell_type": "code",
   "execution_count": 15,
   "metadata": {},
   "outputs": [],
   "source": [
    "vectorizer = CountVectorizer(stop_words = stop_words, analyzer=text_process)\n",
    "tfidf_matrix = vectorizer.fit_transform(descriptions)"
   ]
  },
  {
   "cell_type": "code",
   "execution_count": 24,
   "metadata": {},
   "outputs": [],
   "source": [
    "nbrs = NearestNeighbors(n_neighbors=5, metric='cosine').fit(tfidf_matrix)"
   ]
  },
  {
   "cell_type": "markdown",
   "metadata": {},
   "source": [
    "### Let's query for \"white and sweet wine with a vanilla flavor\""
   ]
  },
  {
   "cell_type": "code",
   "execution_count": 27,
   "metadata": {},
   "outputs": [],
   "source": [
    "closest = get_recommended_wines('white and sweet wine with a vanilla flavor', nbrs, vectorizer)"
   ]
  },
  {
   "cell_type": "code",
   "execution_count": 28,
   "metadata": {},
   "outputs": [
    {
     "name": "stdout",
     "output_type": "stream",
     "text": [
      "Score: 0.5256583509747431\n",
      "Title: The White Knight 2011 Riesling (Lake County)\n",
      "Description: This is a sweet wine with flavors of white sugar, orange, honey and vanilla, all brightened by crisp acidity.\n",
      "\n",
      "\n",
      "Score: 0.5256583509747431\n",
      "Title: Rexford 2010 Regan Vineyard Pinot Gris (Santa Cruz Mountains)\n",
      "Description: This seems heavy and sweet for a Pinot Gris, with flavors of white sugar, orange and vanilla.\n",
      "\n",
      "\n",
      "Score: 0.5256583509747431\n",
      "Title: The White Knight 2011 Riesling (Lake County)\n",
      "Description: This is a sweet wine with flavors of white sugar, orange, honey and vanilla, all brightened by crisp acidity.\n",
      "\n",
      "\n",
      "Score: 0.5285954792089682\n",
      "Title: Lander-Jenkins 2010 Spirit Hawk Chardonnay (California)\n",
      "Description: Very sweet in white sugared orange and vanilla flavors, like a honey-nut candy bar. Will satisfy Chard lovers with a sweet tooth\n",
      "\n",
      "\n",
      "Score: 0.5669872981077806\n",
      "Title: Bougetz 2013 Sauvignon Blanc (Napa Valley)\n",
      "Description: Barrel-fermented and blended with a splash of Sémillon, this is a creamy, rounded and concentrated white, intense in vanilla and apricot flavor.\n",
      "\n",
      "\n"
     ]
    }
   ],
   "source": [
    "showResults(closest)"
   ]
  },
  {
   "cell_type": "markdown",
   "metadata": {},
   "source": [
    "### Not let's query for \"white and sweet wine with a vanilla flavor\""
   ]
  },
  {
   "cell_type": "code",
   "execution_count": 31,
   "metadata": {},
   "outputs": [],
   "source": [
    "closest = get_recommended_wines('red and dry with cherry flavor', nbrs, vectorizer)"
   ]
  },
  {
   "cell_type": "code",
   "execution_count": 32,
   "metadata": {},
   "outputs": [
    {
     "name": "stdout",
     "output_type": "stream",
     "text": [
      "Score: 0.4429139854688444\n",
      "Title: Gantenbein 2011 Pinot Noir (Switzerland)\n",
      "Description: This wine is cherry red with soft brown tinges, offering a nose of cherry with notes of summer farmstand. The predominant flavor is of tart cherry, interlaced with hints of red raspberry and bell pepper.\n",
      "\n",
      "\n",
      "Score: 0.4787139648573131\n",
      "Title: Cramele Recas 2014 Dreambird Merlot (Viile Timisului)\n",
      "Description: This easy-drinking red wine has aromas of cherry, black plum and eucalyptus. Flavors of red cherry, cherry turnover and vanilla remain on the palate through the soft finish.\n",
      "\n",
      "\n",
      "Score: 0.4787139648573131\n",
      "Title: Camille Giroud 2008 Charmes Chambertin  (Charmes-Chambertin)\n",
      "Description: A solid structure and layers of dense fruit characterize this wine. Rich acidity, red cherry flavor and a dry, dark tannic core are surrounded by juicy red berry fruits and the freshest finish.\n",
      "\n",
      "\n",
      "Score: 0.4836022205056778\n",
      "Title: Merriam 2008 SNED Red (Sonoma County)\n",
      "Description: A rustic red blend, with tobacco, herb, cherry and red currant flavors that finish dry and spicy. Useful as a bistro-style wine.\n",
      "\n",
      "\n",
      "Score: 0.4896896369201712\n",
      "Title: Kovács Nimród 2012 Monopole Rhapsody Red (Eger)\n",
      "Description: This Hungarian red blend is garnet in color, with aromas of red cherry and black berry and flavors of red cherry and pomegranate. The tannins are soft with a medium-length finish.\n",
      "\n",
      "\n"
     ]
    }
   ],
   "source": [
    "showResults(closest)"
   ]
  },
  {
   "cell_type": "code",
   "execution_count": null,
   "metadata": {},
   "outputs": [],
   "source": []
  }
 ],
 "metadata": {
  "kernelspec": {
   "display_name": "Python 3",
   "language": "python",
   "name": "python3"
  },
  "language_info": {
   "codemirror_mode": {
    "name": "ipython",
    "version": 3
   },
   "file_extension": ".py",
   "mimetype": "text/x-python",
   "name": "python",
   "nbconvert_exporter": "python",
   "pygments_lexer": "ipython3",
   "version": "3.6.8"
  }
 },
 "nbformat": 4,
 "nbformat_minor": 2
}
